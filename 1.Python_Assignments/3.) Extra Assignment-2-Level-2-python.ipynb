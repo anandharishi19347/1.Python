{
 "cells": [
  {
   "cell_type": "markdown",
   "id": "fbbaa4f4-a7cf-49a0-9894-bbeb866cd9fe",
   "metadata": {},
   "source": [
    "user out put:\n",
    "0\n",
    "1\n",
    "2\n",
    "3\n",
    "4\n",
    "5\n",
    "6\n",
    "7\n",
    "8\n",
    "9\n",
    "10\n",
    "11\n",
    "12\n",
    "13\n",
    "14\n",
    "15\n",
    "16\n",
    "17\n",
    "18\n",
    "19\n"
   ]
  },
  {
   "cell_type": "code",
   "execution_count": 1,
   "id": "29b42f94-8c2c-4d05-b349-c74313ada3a1",
   "metadata": {},
   "outputs": [
    {
     "name": "stdout",
     "output_type": "stream",
     "text": [
      "0\n",
      "1\n",
      "2\n",
      "3\n",
      "4\n",
      "5\n",
      "6\n",
      "7\n",
      "8\n",
      "9\n",
      "10\n",
      "11\n",
      "12\n",
      "13\n",
      "14\n",
      "15\n",
      "16\n",
      "17\n",
      "18\n",
      "19\n"
     ]
    }
   ],
   "source": [
    "for num in range(0,20):\n",
    "    print(num)"
   ]
  },
  {
   "cell_type": "markdown",
   "id": "65f79343-2db5-41f1-b768-9f2c2d05a41c",
   "metadata": {},
   "source": [
    "user out put:\n",
    "10 11 12 13 14 15 16 17 18 19 "
   ]
  },
  {
   "cell_type": "code",
   "execution_count": 2,
   "id": "bafb27ab-88e6-4c6b-8863-fa7018587609",
   "metadata": {},
   "outputs": [
    {
     "name": "stdout",
     "output_type": "stream",
     "text": [
      "10,11,12,13,14,15,16,17,18,19,"
     ]
    }
   ],
   "source": [
    "for num in range (10,20):\n",
    "    print(num, end=',')"
   ]
  },
  {
   "cell_type": "markdown",
   "id": "eb21eb1b-1d83-43ad-987c-810f862ffd0c",
   "metadata": {},
   "source": [
    "user out put:\n",
    "[10,20,14,55,43,87,76]\n",
    "Number of item in the List2:\n",
    "7"
   ]
  },
  {
   "cell_type": "code",
   "execution_count": 3,
   "id": "604b4022-cdb4-4f03-a268-66401dbad714",
   "metadata": {},
   "outputs": [
    {
     "name": "stdout",
     "output_type": "stream",
     "text": [
      "[10,20,14,55,43,87,76]\n",
      "Number of item in the list2:\n",
      "7\n"
     ]
    }
   ],
   "source": [
    "list2=[10,20,14,55,43,87,76]\n",
    "print(\"[10,20,14,55,43,87,76]\")\n",
    "print(\"Number of item in the list2:\")\n",
    "print(len(list2))"
   ]
  },
  {
   "cell_type": "markdown",
   "id": "1ab2ea01-4e81-43c8-a1a5-453fc5564be9",
   "metadata": {},
   "source": [
    "user out put:\n",
    "Artificial Intelligence \n",
    "A\n",
    "r\n",
    "t\n",
    "i\n",
    "f\n",
    "i\n",
    "c\n",
    "i\n",
    "a\n",
    "l\n",
    "\n",
    "I\n",
    "n\n",
    "t\n",
    "e\n",
    "l\n",
    "l\n",
    "i\n",
    "g\n",
    "e\n",
    "n\n",
    "c\n",
    "e"
   ]
  },
  {
   "cell_type": "code",
   "execution_count": 4,
   "id": "c94cbb32-efcb-41e5-9c68-591a0baf3962",
   "metadata": {},
   "outputs": [
    {
     "name": "stdout",
     "output_type": "stream",
     "text": [
      "A\n",
      "r\n",
      "t\n",
      "i\n",
      "f\n",
      "i\n",
      "c\n",
      "i\n",
      "a\n",
      "l\n",
      " \n",
      "I\n",
      "n\n",
      "t\n",
      "e\n",
      "l\n",
      "l\n",
      "i\n",
      "g\n",
      "e\n",
      "n\n",
      "c\n",
      "e\n"
     ]
    }
   ],
   "source": [
    "let = \"Artificial Intelligence\"\n",
    "for x in let:\n",
    "    print(x)"
   ]
  },
  {
   "cell_type": "markdown",
   "id": "826ff8f3-ba02-4ca3-96a7-6f804736d9de",
   "metadata": {},
   "source": [
    "user out put:\n",
    "-Your Name-\n",
    "-Your Age-\n",
    "-Your Profession-\n"
   ]
  },
  {
   "cell_type": "code",
   "execution_count": 5,
   "id": "4313182b-1c47-4bd0-9dd3-3593107ac236",
   "metadata": {},
   "outputs": [
    {
     "name": "stdout",
     "output_type": "stream",
     "text": [
      "-Your Name-\n",
      "-Your Age-\n",
      "-Your Profession-\n"
     ]
    }
   ],
   "source": [
    "det=(\"-Your Name-\",\"-Your Age-\",\"-Your Profession-\")\n",
    "for x in det:\n",
    "    print(x)"
   ]
  },
  {
   "cell_type": "markdown",
   "id": "d0a47d83-552e-44c3-9e48-26037f2b81bc",
   "metadata": {},
   "source": [
    "user out put:\n",
    "(1,'Welcome', 2,'Hope')"
   ]
  },
  {
   "cell_type": "code",
   "execution_count": 6,
   "id": "d571ff16-5b8c-4b3d-b59c-e8bcc84e7d3e",
   "metadata": {},
   "outputs": [
    {
     "name": "stdout",
     "output_type": "stream",
     "text": [
      "[1, 'Welcome', 2, 'Hope']\n"
     ]
    }
   ],
   "source": [
    "let=[1,'Welcome', 2,'Hope']\n",
    "y=tuple(let)\n",
    "print(let)"
   ]
  },
  {
   "cell_type": "markdown",
   "id": "7c4ddd14-afe7-4fbd-ab39-17529cc80e31",
   "metadata": {},
   "source": [
    "user out put:\n",
    "((0,1,2,3),('python', 'hope'))"
   ]
  },
  {
   "cell_type": "code",
   "execution_count": 1,
   "id": "59784aad-7c46-4951-b9c7-558d34e36204",
   "metadata": {},
   "outputs": [
    {
     "name": "stdout",
     "output_type": "stream",
     "text": [
      "((0, 1, 2, 3), ('python', 'hope'))\n"
     ]
    }
   ],
   "source": [
    "mix_tuple=((0,1,2,3),('python', 'hope'))\n",
    "print(mix_tuple)"
   ]
  },
  {
   "cell_type": "markdown",
   "id": "77fd9d3e-0f8b-49aa-9571-3cdce932d948",
   "metadata": {},
   "source": [
    "user out put:\n",
    "(20,10,16,19,25,1,276,188)\n",
    "19 is odd\n",
    "25 is odd\n",
    "1 is odd"
   ]
  },
  {
   "cell_type": "code",
   "execution_count": 2,
   "id": "38f5143b-e859-48d2-a46b-c8b39a50a504",
   "metadata": {},
   "outputs": [
    {
     "name": "stdout",
     "output_type": "stream",
     "text": [
      "(20, 10, 16, 19, 25, 1, 276, 188)\n",
      "19 odd\n",
      "25 odd\n",
      "1 odd\n"
     ]
    }
   ],
   "source": [
    "Num1=(20,10,16,19,25,1,276,188)\n",
    "print(Num1)\n",
    "for num in Num1:\n",
    "    if(num%2==1):\n",
    "        print(num,\"odd\")"
   ]
  },
  {
   "cell_type": "markdown",
   "id": "c8da0f7c-b73c-453b-84ac-1a8440018f22",
   "metadata": {},
   "source": [
    "user out put:\n",
    "(20,10,16,19,25,1,276,188)\n",
    "20 is odd\n",
    "10 is odd\n",
    "16 is odd\n",
    "276 is odd\n",
    "188 is odd"
   ]
  },
  {
   "cell_type": "code",
   "execution_count": 3,
   "id": "d4a7747f-b843-4f0c-8b53-2d4c64ce2e7c",
   "metadata": {},
   "outputs": [
    {
     "name": "stdout",
     "output_type": "stream",
     "text": [
      "(20, 10, 16, 25, 1, 276, 188)\n",
      "20 is odd\n",
      "10 is odd\n",
      "16 is odd\n",
      "276 is odd\n",
      "188 is odd\n"
     ]
    }
   ],
   "source": [
    "Num1=(20,10,16,25,1,276,188)\n",
    "print(Num1)\n",
    "for num in Num1:\n",
    "    if(num%2==0):\n",
    "        print(num,\"is odd\")"
   ]
  }
 ],
 "metadata": {
  "kernelspec": {
   "display_name": "Python 3 (ipykernel)",
   "language": "python",
   "name": "python3"
  },
  "language_info": {
   "codemirror_mode": {
    "name": "ipython",
    "version": 3
   },
   "file_extension": ".py",
   "mimetype": "text/x-python",
   "name": "python",
   "nbconvert_exporter": "python",
   "pygments_lexer": "ipython3",
   "version": "3.11.7"
  }
 },
 "nbformat": 4,
 "nbformat_minor": 5
}
