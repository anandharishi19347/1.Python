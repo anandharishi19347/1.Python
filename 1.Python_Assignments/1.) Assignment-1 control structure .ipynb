{
 "cells": [
  {
   "cell_type": "markdown",
   "id": "5910338b-31d0-419e-9b8d-d6aa5fed0831",
   "metadata": {},
   "source": [
    "OUT PUT: Welcome to Assignment-1"
   ]
  },
  {
   "cell_type": "code",
   "execution_count": 1,
   "id": "ffee617c-c465-42cb-a111-0fd847d06fd7",
   "metadata": {},
   "outputs": [
    {
     "name": "stdout",
     "output_type": "stream",
     "text": [
      "Welcome to Assignment-1\n"
     ]
    }
   ],
   "source": [
    "print(\"Welcome to Assignment-1\")"
   ]
  },
  {
   "cell_type": "markdown",
   "id": "38d8de5e-3a48-412d-9bda-d6e31b3f264e",
   "metadata": {},
   "source": [
    "OUT PUT: \n",
    "num1=10\n",
    "num2=30\n",
    "add=40"
   ]
  },
  {
   "cell_type": "code",
   "execution_count": 2,
   "id": "ea85d403-4f45-4173-a43d-b16b27f42190",
   "metadata": {},
   "outputs": [
    {
     "name": "stdin",
     "output_type": "stream",
     "text": [
      "enter the num1: 10\n",
      "enter the num2: 30\n"
     ]
    },
    {
     "name": "stdout",
     "output_type": "stream",
     "text": [
      "add= 40\n"
     ]
    }
   ],
   "source": [
    "num1=int(input(\"enter the num1:\"))\n",
    "num2=int(input(\"enter the num2:\"))\n",
    "add=num1+num2\n",
    "print(\"add=\",(add))"
   ]
  },
  {
   "cell_type": "markdown",
   "id": "5db3e2c9-4ba9-45d2-bf3a-4b24f24ceb93",
   "metadata": {},
   "source": [
    "OUT PUT: \n",
    "Enter the BMI Index:34\n",
    "Very Overweight"
   ]
  },
  {
   "cell_type": "code",
   "execution_count": 3,
   "id": "f2623394-3b1f-478d-a9b2-eefcb1a0c5b8",
   "metadata": {},
   "outputs": [
    {
     "name": "stdin",
     "output_type": "stream",
     "text": [
      "enter the BMI Index: 34\n"
     ]
    },
    {
     "name": "stdout",
     "output_type": "stream",
     "text": [
      "very overweight\n"
     ]
    }
   ],
   "source": [
    "weight=int(input(\"enter the BMI Index:\"))\n",
    "\n",
    "if (weight<19):\n",
    "    print(\"under weight\")\n",
    "elif (weight<25):\n",
    "    print(\"normal\")\n",
    "elif (weight<40):\n",
    "     print(\"very overweight\")\n",
    "else:\n",
    "     print(\"obese\")"
   ]
  },
  {
   "cell_type": "markdown",
   "id": "c4acf1a7-9735-4d05-957c-62b71920ae04",
   "metadata": {},
   "source": []
  }
 ],
 "metadata": {
  "kernelspec": {
   "display_name": "Python 3 (ipykernel)",
   "language": "python",
   "name": "python3"
  },
  "language_info": {
   "codemirror_mode": {
    "name": "ipython",
    "version": 3
   },
   "file_extension": ".py",
   "mimetype": "text/x-python",
   "name": "python",
   "nbconvert_exporter": "python",
   "pygments_lexer": "ipython3",
   "version": "3.11.7"
  }
 },
 "nbformat": 4,
 "nbformat_minor": 5
}
