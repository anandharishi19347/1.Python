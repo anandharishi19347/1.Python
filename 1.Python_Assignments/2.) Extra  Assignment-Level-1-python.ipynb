{
 "cells": [
  {
   "cell_type": "markdown",
   "id": "cd76ee7c-40d8-4e5c-855c-ae906afbf7da",
   "metadata": {},
   "source": [
    "user out put:\n",
    "HOPE AI"
   ]
  },
  {
   "cell_type": "code",
   "execution_count": 1,
   "id": "8ec17992-574d-4c38-9a01-d2151621d2e6",
   "metadata": {},
   "outputs": [
    {
     "name": "stdout",
     "output_type": "stream",
     "text": [
      "HOPE AI\n"
     ]
    }
   ],
   "source": [
    "print(\"HOPE AI\")"
   ]
  },
  {
   "cell_type": "markdown",
   "id": "a50b1a2e-fd97-4f83-b626-bd2005885d43",
   "metadata": {},
   "source": [
    "user out put:\n",
    "Enter your institute name? : HOPE AI"
   ]
  },
  {
   "cell_type": "code",
   "execution_count": 1,
   "id": "da8aa9a2-da55-4ec7-9399-d179095e66b8",
   "metadata": {},
   "outputs": [
    {
     "name": "stdin",
     "output_type": "stream",
     "text": [
      "enter your institute name? : HOPE AI\n"
     ]
    }
   ],
   "source": [
    "name=input(\"enter your institute name? :\")"
   ]
  },
  {
   "cell_type": "raw",
   "id": "209061b4-50bd-4205-a0ab-c3efe4cb1e3a",
   "metadata": {},
   "source": [
    "user out put:\n",
    "Enter your name: Raj\n",
    "Enter your age: 15\n",
    "Enter your school name: Guru school \n",
    "Enter your degree: B.E CSE"
   ]
  },
  {
   "cell_type": "code",
   "execution_count": 3,
   "id": "0ea8f82f-8037-4b48-8e67-b612e08ef360",
   "metadata": {},
   "outputs": [
    {
     "name": "stdin",
     "output_type": "stream",
     "text": [
      "enter your name: Raj\n",
      "enter your age: 15\n",
      "Enter your school name: Guru school\n",
      "Enter your degree: B.E CSE\n"
     ]
    }
   ],
   "source": [
    "name=input(\"enter your name:\")\n",
    "age=int(input(\"enter your age:\"))\n",
    "name=input(\"Enter your school name:\")\n",
    "degree=input(\"Enter your degree:\")"
   ]
  },
  {
   "cell_type": "markdown",
   "id": "c9cc156b-7d81-44cd-b8e0-527bd5883982",
   "metadata": {},
   "source": [
    "user out put\n",
    "a=43\n",
    "b=34\n",
    "add=77"
   ]
  },
  {
   "cell_type": "code",
   "execution_count": 4,
   "id": "2537bc14-ec6f-47fb-a945-6fbffc355f06",
   "metadata": {},
   "outputs": [
    {
     "name": "stdin",
     "output_type": "stream",
     "text": [
      "a= 43\n",
      "b= 34\n"
     ]
    },
    {
     "name": "stdout",
     "output_type": "stream",
     "text": [
      "add= 77\n"
     ]
    }
   ],
   "source": [
    "num1=int(input(\"a=\"))\n",
    "num2=int(input(\"b=\"))\n",
    "add=num1+num2\n",
    "print(\"add=\",add)"
   ]
  },
  {
   "cell_type": "markdown",
   "id": "c2ad87ac-b4a5-459a-bedd-4f0106a250e8",
   "metadata": {},
   "source": [
    "user out put:\n",
    "a=43\n",
    "b=34\n",
    "sub=9"
   ]
  },
  {
   "cell_type": "code",
   "execution_count": 5,
   "id": "091ac6be-2dc4-439f-87af-83296ed71267",
   "metadata": {},
   "outputs": [
    {
     "name": "stdin",
     "output_type": "stream",
     "text": [
      "a= 43\n",
      "b= 34\n"
     ]
    },
    {
     "name": "stdout",
     "output_type": "stream",
     "text": [
      "sub= 9\n"
     ]
    }
   ],
   "source": [
    "num1=int(input(\"a=\"))\n",
    "num2=int(input(\"b=\"))\n",
    "sub=num1-num2\n",
    "print(\"sub=\",sub)"
   ]
  },
  {
   "cell_type": "markdown",
   "id": "a3e96e64-3f11-4e70-a99d-20503effc62d",
   "metadata": {},
   "source": [
    "user out put:\n",
    "a=63\n",
    "b=97\n",
    "mul=6111"
   ]
  },
  {
   "cell_type": "code",
   "execution_count": 6,
   "id": "52111e11-69a8-43e9-8420-87b1c2b83d62",
   "metadata": {},
   "outputs": [
    {
     "name": "stdin",
     "output_type": "stream",
     "text": [
      "a= 63\n",
      "b= 97\n"
     ]
    },
    {
     "name": "stdout",
     "output_type": "stream",
     "text": [
      "mul= 6111\n"
     ]
    }
   ],
   "source": [
    "num1=int(input(\"a=\"))\n",
    "num2=int(input(\"b=\"))\n",
    "mul=num1*num2\n",
    "print(\"mul=\",mul)"
   ]
  },
  {
   "cell_type": "markdown",
   "id": "576cf9a4-7f4b-4ac0-be48-b6798040c470",
   "metadata": {},
   "source": [
    "user out put:\n",
    "a=76\n",
    "b=31\n",
    "float Div = 2.4516129032258065"
   ]
  },
  {
   "cell_type": "code",
   "execution_count": 7,
   "id": "5ad0992a-ea52-4ab6-afc4-b4d606c85792",
   "metadata": {},
   "outputs": [
    {
     "name": "stdin",
     "output_type": "stream",
     "text": [
      "a= 76\n",
      "b= 31\n"
     ]
    },
    {
     "name": "stdout",
     "output_type": "stream",
     "text": [
      "float div= 2.4516129032258065\n"
     ]
    }
   ],
   "source": [
    "num1=int(input(\"a=\"))\n",
    "num2=int(input(\"b=\"))\n",
    "div=(num1/num2)\n",
    "print(\"float div=\",div)"
   ]
  },
  {
   "cell_type": "markdown",
   "id": "95f2ad05-1f7a-4f94-b026-356307a83c49",
   "metadata": {},
   "source": [
    "user out put:\n",
    "a=76\n",
    "b=31\n",
    "Floor Div = 2"
   ]
  },
  {
   "cell_type": "code",
   "execution_count": 8,
   "id": "0205849c-9446-4cf0-93ba-ecae84420d9f",
   "metadata": {},
   "outputs": [
    {
     "name": "stdin",
     "output_type": "stream",
     "text": [
      "a= 76\n",
      "b= 31\n"
     ]
    },
    {
     "name": "stdout",
     "output_type": "stream",
     "text": [
      "Floor Div= 2\n"
     ]
    }
   ],
   "source": [
    "num1=int(input(\"a=\"))\n",
    "num2=int(input(\"b=\"))\n",
    "div=num1//num2\n",
    "print(\"Floor Div=\",div)"
   ]
  },
  {
   "cell_type": "markdown",
   "id": "9f354e0b-e704-4db5-9598-eb3dbd44fd23",
   "metadata": {},
   "source": [
    "user out put:\n",
    "a=76\n",
    "b=31\n",
    "Modulo=14"
   ]
  },
  {
   "cell_type": "code",
   "execution_count": 9,
   "id": "42d08a8b-5930-4bdd-9a84-37156aab25ea",
   "metadata": {},
   "outputs": [
    {
     "name": "stdin",
     "output_type": "stream",
     "text": [
      "a= 76\n",
      "b= 31\n"
     ]
    },
    {
     "name": "stdout",
     "output_type": "stream",
     "text": [
      "modulo= 14\n"
     ]
    }
   ],
   "source": [
    "num1=int(input(\"a=\"))\n",
    "num2=int(input(\"b=\"))\n",
    "Modulo=num1%num2\n",
    "print(\"modulo=\",Modulo)"
   ]
  },
  {
   "cell_type": "markdown",
   "id": "1c3739e1-f8ab-4beb-95aa-2b8fc8fe61cf",
   "metadata": {},
   "source": [
    "user out put:\n",
    "a=4\n",
    "b=4\n",
    "Power=256"
   ]
  },
  {
   "cell_type": "code",
   "execution_count": 10,
   "id": "06b22545-27c9-4d1e-960b-eecc95716bb8",
   "metadata": {},
   "outputs": [
    {
     "name": "stdin",
     "output_type": "stream",
     "text": [
      "a= 4\n",
      "b= 4\n"
     ]
    },
    {
     "name": "stdout",
     "output_type": "stream",
     "text": [
      "Power= 256\n"
     ]
    }
   ],
   "source": [
    "num1=int(input(\"a=\"))\n",
    "num2=int(input(\"b=\"))\n",
    "Pow=num1**num2\n",
    "print(\"Power=\",Pow)"
   ]
  },
  {
   "cell_type": "code",
   "execution_count": null,
   "id": "720a1b77-3ef8-4800-8eaf-b6eb27af0103",
   "metadata": {},
   "outputs": [],
   "source": []
  }
 ],
 "metadata": {
  "kernelspec": {
   "display_name": "Python 3 (ipykernel)",
   "language": "python",
   "name": "python3"
  },
  "language_info": {
   "codemirror_mode": {
    "name": "ipython",
    "version": 3
   },
   "file_extension": ".py",
   "mimetype": "text/x-python",
   "name": "python",
   "nbconvert_exporter": "python",
   "pygments_lexer": "ipython3",
   "version": "3.11.7"
  }
 },
 "nbformat": 4,
 "nbformat_minor": 5
}
