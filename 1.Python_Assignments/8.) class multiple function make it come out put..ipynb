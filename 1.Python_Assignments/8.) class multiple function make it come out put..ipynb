{
 "cells": [
  {
   "cell_type": "code",
   "execution_count": 6,
   "id": "ceec1a67-c580-4696-9bb9-1a2d81c127dd",
   "metadata": {},
   "outputs": [],
   "source": [
    "from ClassMultipleFunction import MultipleFunction\n",
    "#from file name import class name#"
   ]
  },
  {
   "cell_type": "code",
   "execution_count": 7,
   "id": "6338aa1c-664a-4e3f-9f34-86deb5bb70d2",
   "metadata": {},
   "outputs": [
    {
     "name": "stdout",
     "output_type": "stream",
     "text": [
      "Sub-fields in AI are:\n",
      "Machine Learning\n",
      "Neural Networks\n",
      "Vision\n",
      "Robotics\n",
      "Speech Processing\n",
      "Natural Language Processing\n"
     ]
    }
   ],
   "source": [
    "MultipleFunction.Subfields()\n",
    "#from class name import function name"
   ]
  },
  {
   "cell_type": "code",
   "execution_count": 8,
   "id": "f327ef2e-e075-41ba-8345-120d922e6d93",
   "metadata": {},
   "outputs": [
    {
     "name": "stdin",
     "output_type": "stream",
     "text": [
      "enter a number: 52452\n"
     ]
    },
    {
     "name": "stdout",
     "output_type": "stream",
     "text": [
      "52452 is even number\n"
     ]
    }
   ],
   "source": [
    "MultipleFunction.OddEven()\n",
    "#from class name import function name"
   ]
  },
  {
   "cell_type": "code",
   "execution_count": 9,
   "id": "a302d35f-d57f-4faf-9441-9ffb5fa5bf72",
   "metadata": {},
   "outputs": [
    {
     "name": "stdin",
     "output_type": "stream",
     "text": [
      "your gender: Male \n",
      "your age: 20\n"
     ]
    },
    {
     "name": "stdout",
     "output_type": "stream",
     "text": [
      "Not ELIGIBLE\n"
     ]
    }
   ],
   "source": [
    "MultipleFunction.Eligible()\n",
    "#from class name import function name"
   ]
  },
  {
   "cell_type": "code",
   "execution_count": 10,
   "id": "ad1ca002-db6b-4f52-abcd-9cea69aecd7e",
   "metadata": {},
   "outputs": [
    {
     "name": "stdin",
     "output_type": "stream",
     "text": [
      "subject1= 98\n",
      "subject2= 87\n",
      "subject3= 95\n",
      "subject4= 95\n",
      "subject5= 93\n"
     ]
    },
    {
     "name": "stdout",
     "output_type": "stream",
     "text": [
      "Total: 468\n",
      "percentage: 93.6\n"
     ]
    }
   ],
   "source": [
    "MultipleFunction.percentage()\n",
    "#from class name import function name"
   ]
  },
  {
   "cell_type": "code",
   "execution_count": 11,
   "id": "c3bbd17f-c8ee-4638-b80d-f7bcd49a0d69",
   "metadata": {},
   "outputs": [
    {
     "name": "stdin",
     "output_type": "stream",
     "text": [
      "Height: 32\n",
      "Breadth: 34\n",
      "Area formula: (Height*Breadth)/2\n"
     ]
    },
    {
     "name": "stdout",
     "output_type": "stream",
     "text": [
      "Area of Triangle: 544.0\n"
     ]
    },
    {
     "name": "stdin",
     "output_type": "stream",
     "text": [
      "Height1: 2\n",
      "Height2: 4\n",
      "Breadth: 4\n",
      "perimeter formula: Height1+Height2+Breadth\n"
     ]
    },
    {
     "name": "stdout",
     "output_type": "stream",
     "text": [
      "perimeter of triangle: 10\n"
     ]
    }
   ],
   "source": [
    "MultipleFunction.triangle()\n",
    "#from class name import function name"
   ]
  },
  {
   "cell_type": "code",
   "execution_count": null,
   "id": "2190deef-fbd3-49ad-bcf8-bc6908d9807a",
   "metadata": {},
   "outputs": [],
   "source": []
  }
 ],
 "metadata": {
  "kernelspec": {
   "display_name": "Python 3 (ipykernel)",
   "language": "python",
   "name": "python3"
  },
  "language_info": {
   "codemirror_mode": {
    "name": "ipython",
    "version": 3
   },
   "file_extension": ".py",
   "mimetype": "text/x-python",
   "name": "python",
   "nbconvert_exporter": "python",
   "pygments_lexer": "ipython3",
   "version": "3.11.7"
  }
 },
 "nbformat": 4,
 "nbformat_minor": 5
}
