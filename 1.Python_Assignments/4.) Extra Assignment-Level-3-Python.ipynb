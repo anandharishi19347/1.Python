{
 "cells": [
  {
   "cell_type": "markdown",
   "id": "47edd1cb-d911-4b1d-bd47-f6fcbd26ea33",
   "metadata": {},
   "source": [
    "user out put:\n",
    "value: 10\n",
    "corret"
   ]
  },
  {
   "cell_type": "code",
   "execution_count": 7,
   "id": "bd5aad6a-8523-47d1-88ad-65aca7e7ecf4",
   "metadata": {},
   "outputs": [
    {
     "name": "stdin",
     "output_type": "stream",
     "text": [
      "value: 10\n"
     ]
    },
    {
     "name": "stdout",
     "output_type": "stream",
     "text": [
      "correct\n"
     ]
    }
   ],
   "source": [
    "num=int(input(\"value:\"))\n",
    "if(num==10):\n",
    "    print(\"correct\")"
   ]
  },
  {
   "cell_type": "markdown",
   "id": "3230b8c7-0cf2-4f02-8d55-549153623ba4",
   "metadata": {},
   "source": [
    "user out put:\n",
    "Enter the password: Hope@123\n",
    "Your password is correct"
   ]
  },
  {
   "cell_type": "code",
   "execution_count": 2,
   "id": "9315551d-5e6d-4241-bd06-4a5c6fc1ea2a",
   "metadata": {},
   "outputs": [
    {
     "name": "stdin",
     "output_type": "stream",
     "text": [
      "Enter the password: Hope@123\n"
     ]
    },
    {
     "name": "stdout",
     "output_type": "stream",
     "text": [
      "Your password is correct\n"
     ]
    }
   ],
   "source": [
    "Num1=input(\"Enter the password:\")\n",
    "num=(\"Hope@123\")\n",
    "if (num==Num1):\n",
    "    print(\"Your password is correct\")\n",
    "else:\n",
    "    print(\"Your password is false\")"
   ]
  },
  {
   "cell_type": "markdown",
   "id": "2b50fe71-5d05-4397-8725-c9183eb5e5b0",
   "metadata": {},
   "source": [
    "user out put:\n",
    "age: 20\n",
    "Adult"
   ]
  },
  {
   "cell_type": "code",
   "execution_count": 3,
   "id": "141122f7-daa3-49e7-93ba-372f77aff1e9",
   "metadata": {},
   "outputs": [
    {
     "name": "stdin",
     "output_type": "stream",
     "text": [
      "age: 20\n"
     ]
    },
    {
     "name": "stdout",
     "output_type": "stream",
     "text": [
      "Adult\n"
     ]
    }
   ],
   "source": [
    "age=int(input(\"age:\"))\n",
    "if(age<18):\n",
    "    print(\"children\")\n",
    "elif(age<35):\n",
    "    print(\"Adult\")\n",
    "elif(age<59): \n",
    "    print(\"Citizen\")\n",
    "else:\n",
    "     print(\"Senior citizen\")"
   ]
  },
  {
   "cell_type": "markdown",
   "id": "cd8bafce-60a4-476b-9184-a7ea7837f4cf",
   "metadata": {},
   "source": [
    "user out put:\n",
    "Enter any number:1\n",
    "No is positive"
   ]
  },
  {
   "cell_type": "code",
   "execution_count": 9,
   "id": "deac0bc1-69cb-4919-8ae0-a5ff8ced405d",
   "metadata": {},
   "outputs": [
    {
     "name": "stdin",
     "output_type": "stream",
     "text": [
      "Enter any number: 1\n"
     ]
    },
    {
     "name": "stdout",
     "output_type": "stream",
     "text": [
      "No is positive\n"
     ]
    }
   ],
   "source": [
    "num=int(input(\"Enter any number:\"))\n",
    "if(num==1):\n",
    "    print(\"No is positive\")\n",
    "else:\n",
    "    print(\"yes is negetive\")"
   ]
  },
  {
   "cell_type": "markdown",
   "id": "5cfcfd87-6e4b-408d-90da-bd7a5b5a58f7",
   "metadata": {},
   "source": [
    "user out put:\n",
    "Enter a number to check:22\n",
    "No is not divisible by 5"
   ]
  },
  {
   "cell_type": "code",
   "execution_count": 5,
   "id": "ef7204a4-c221-4776-8d8e-319ac53e3f93",
   "metadata": {},
   "outputs": [
    {
     "name": "stdin",
     "output_type": "stream",
     "text": [
      "Enter a number to check: 22\n"
     ]
    },
    {
     "name": "stdout",
     "output_type": "stream",
     "text": [
      "No is not divisible by 5\n"
     ]
    }
   ],
   "source": [
    "num=int(input(\"Enter a number to check:\"))\n",
    "if(num%5==0):\n",
    "    print(\"yes its divisible by 5\")\n",
    "else:\n",
    "    print(\"No is not divisible by 5\")"
   ]
  },
  {
   "cell_type": "code",
   "execution_count": null,
   "id": "63bb87c4-013e-48f4-b1d8-2a1af6a6fa29",
   "metadata": {},
   "outputs": [],
   "source": []
  }
 ],
 "metadata": {
  "kernelspec": {
   "display_name": "Python 3 (ipykernel)",
   "language": "python",
   "name": "python3"
  },
  "language_info": {
   "codemirror_mode": {
    "name": "ipython",
    "version": 3
   },
   "file_extension": ".py",
   "mimetype": "text/x-python",
   "name": "python",
   "nbconvert_exporter": "python",
   "pygments_lexer": "ipython3",
   "version": "3.11.7"
  }
 },
 "nbformat": 4,
 "nbformat_minor": 5
}
