{
 "cells": [
  {
   "cell_type": "markdown",
   "id": "bbda58a1-baa0-4dac-80fa-4af0d8cd6f27",
   "metadata": {},
   "source": [
    "user out put:\n",
    "Sub-fields in AI are:\n",
    "Machine Learning\n",
    "Neural Networks\n",
    "Vision\n",
    "Robotics\n",
    "Speech Processing\n",
    "Natural Language Processing"
   ]
  },
  {
   "cell_type": "code",
   "execution_count": 1,
   "id": "e08e34ca-4b51-4a10-b28e-57e31aa0124e",
   "metadata": {},
   "outputs": [
    {
     "name": "stdout",
     "output_type": "stream",
     "text": [
      "Sub-fields in AI are:\n",
      "Machine Learning\n",
      "Neural Networks\n",
      "Vision\n",
      "Robotics\n",
      "Speech Processing\n",
      "Natural Language Processing\n"
     ]
    }
   ],
   "source": [
    "print(\"Sub-fields in AI are:\")\n",
    "Lists=[\"Machine Learning\",\"Neural Networks\",\"Vision\",\"Robotics\",\"Speech Processing\",\"Natural Language Processing\"]\n",
    "for temp in Lists:\n",
    "    print(temp)\n"
   ]
  },
  {
   "cell_type": "markdown",
   "id": "0ff54d19-ceb6-41e7-9e3f-cb598debb6f9",
   "metadata": {},
   "source": [
    "user out put:\n",
    "Enter a number: 52452\n",
    "52452 is even number"
   ]
  },
  {
   "cell_type": "code",
   "execution_count": 2,
   "id": "cb6b552e-9bdb-43e0-91d8-9ff52f999ddf",
   "metadata": {},
   "outputs": [
    {
     "name": "stdin",
     "output_type": "stream",
     "text": [
      "enter a number: 52452\n"
     ]
    },
    {
     "name": "stdout",
     "output_type": "stream",
     "text": [
      "52452 is even number\n"
     ]
    }
   ],
   "source": [
    "def oddeven():\n",
    "    num=int(input(\"enter a number:\"))\n",
    "    if((num%2)==0):\n",
    "        print(\"52452 is even number\")\n",
    "    else:\n",
    "        print(\"is not even number\")\n",
    "oddeven()        "
   ]
  },
  {
   "cell_type": "markdown",
   "id": "4f556f1e-3941-47be-976d-14299bbf83bb",
   "metadata": {},
   "source": [
    "user out put:\n",
    "Your Gender: Male\n",
    "Your Age:20\n",
    "NOT ELIGIBLE"
   ]
  },
  {
   "cell_type": "code",
   "execution_count": 3,
   "id": "d390db58-3975-4c2e-9b2b-14543be2e4f0",
   "metadata": {},
   "outputs": [
    {
     "name": "stdin",
     "output_type": "stream",
     "text": [
      "your gender: male\n",
      "your age: 20\n"
     ]
    },
    {
     "name": "stdout",
     "output_type": "stream",
     "text": [
      "Not ELIGIBLE\n"
     ]
    }
   ],
   "source": [
    "def eligible_for_marriage_men_and_women():\n",
    "    gender=input(\"your gender:\")\n",
    "    age=int(input(\"your age:\"))\n",
    "    if age>=18 and gender=='female':\n",
    "        print(\"Eligible\")\n",
    "    elif age>21 and gender=='male':\n",
    "        print(\"Eligible\")\n",
    "    else:\n",
    "        print(\"Not ELIGIBLE\")\n",
    "eligible_for_marriage_men_and_women()        "
   ]
  },
  {
   "cell_type": "markdown",
   "id": "3ee56509-a2a6-426f-bb54-e7b26b5f3256",
   "metadata": {},
   "source": [
    "user out put:\n",
    "subject1= 98\n",
    "subject2= 87\n",
    "subject3= 95\n",
    "subject4= 95\n",
    "subject5= 93\n",
    "Total: 468\n",
    "percentage: 93.60000000000001"
   ]
  },
  {
   "cell_type": "code",
   "execution_count": 4,
   "id": "3f93a47b-3dbc-4af8-aea9-ec9f7b31acf9",
   "metadata": {},
   "outputs": [
    {
     "name": "stdin",
     "output_type": "stream",
     "text": [
      "subject1= 98\n",
      "subject2= 87\n",
      "subject3= 95\n",
      "subject4= 95\n",
      "subject5= 93\n"
     ]
    },
    {
     "name": "stdout",
     "output_type": "stream",
     "text": [
      "Total: 468\n",
      "percentage: 93.6\n"
     ]
    }
   ],
   "source": [
    "subject1=int(input(\"subject1=\"))\n",
    "subject2=int(input(\"subject2=\"))\n",
    "subject3=int(input(\"subject3=\"))\n",
    "subject4=int(input(\"subject4=\"))\n",
    "subject5=int(input(\"subject5=\"))   \n",
    "add=(subject1 + subject2 + subject3 + subject4 + subject5)\n",
    "print(\"Total:\",add)\n",
    "avg=add/5\n",
    "percentage=(add*100)/500\n",
    "print(\"percentage:\",percentage)\n",
    "\n",
    "\n"
   ]
  },
  {
   "cell_type": "markdown",
   "id": "3f244055-d033-47b7-90e2-0d40fa5367f9",
   "metadata": {},
   "source": [
    "user out put:\n",
    "Height:32\n",
    "Breadth:34\n",
    "Area formula: (Height*Breadth)/2\n",
    "Area of Triangle: 544.0\n",
    "Height1:2\n",
    "Height2:4\n",
    "Breadth:4\n",
    "Perimeter formula: Height1+Height2+Breadth\n",
    "Perimeter of Triangle: 10 "
   ]
  },
  {
   "cell_type": "code",
   "execution_count": 5,
   "id": "979fdb97-9603-4f25-b2c8-0ce6d630f43a",
   "metadata": {},
   "outputs": [
    {
     "name": "stdin",
     "output_type": "stream",
     "text": [
      "Height: 32\n",
      "Breadth: 34\n",
      "Area formula: (Height*Breadth)/2\n"
     ]
    },
    {
     "name": "stdout",
     "output_type": "stream",
     "text": [
      "Area of Triangle: 544.0\n"
     ]
    },
    {
     "name": "stdin",
     "output_type": "stream",
     "text": [
      "Height1: 2\n",
      "Height2: 4\n",
      "Breadth: 4\n",
      "perimeter formula: Height1+Height2+Breadth\n"
     ]
    },
    {
     "name": "stdout",
     "output_type": "stream",
     "text": [
      "perimeter of triangle: 10\n"
     ]
    }
   ],
   "source": [
    "height=int(input(\"Height:\"))\n",
    "breadth=int(input(\"Breadth:\"))\n",
    "A_F=input(\"Area formula:\")\n",
    "A_F=(32*34)/2\n",
    "print(\"Area of Triangle:\",A_F)\n",
    "\n",
    "height1=int(input(\"Height1:\"))\n",
    "height2=int(input(\"Height2:\"))\n",
    "breadth3=int(input(\"Breadth:\"))\n",
    "P_F=input(\"perimeter formula:\")\n",
    "P_F=2+4+4\n",
    "print(\"perimeter of triangle:\",P_F)\n",
    "\n",
    "\n",
    "\n"
   ]
  },
  {
   "cell_type": "code",
   "execution_count": null,
   "id": "e5c74a3a-9e53-4d1f-b93c-a3470601cd18",
   "metadata": {},
   "outputs": [],
   "source": []
  }
 ],
 "metadata": {
  "kernelspec": {
   "display_name": "Python 3 (ipykernel)",
   "language": "python",
   "name": "python3"
  },
  "language_info": {
   "codemirror_mode": {
    "name": "ipython",
    "version": 3
   },
   "file_extension": ".py",
   "mimetype": "text/x-python",
   "name": "python",
   "nbconvert_exporter": "python",
   "pygments_lexer": "ipython3",
   "version": "3.11.7"
  }
 },
 "nbformat": 4,
 "nbformat_minor": 5
}
